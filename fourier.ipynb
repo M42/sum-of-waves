{
 "cells": [
  {
   "cell_type": "markdown",
   "metadata": {},
   "source": [
    "## Plotting wave files"
   ]
  },
  {
   "cell_type": "code",
   "execution_count": 2,
   "metadata": {
    "collapsed": true
   },
   "outputs": [],
   "source": [
    "%matplotlib inline\n",
    "import matplotlib.pyplot as plt\n",
    "import numpy as np\n",
    "import wave\n",
    "import sys"
   ]
  },
  {
   "cell_type": "code",
   "execution_count": 3,
   "metadata": {
    "collapsed": false
   },
   "outputs": [],
   "source": [
    "# Only opens 16bit PCM WAV files.\n",
    "# The format can be changed in Audacity.\n",
    "spf = wave.open('test2.wav','r')"
   ]
  },
  {
   "cell_type": "code",
   "execution_count": 4,
   "metadata": {
    "collapsed": true
   },
   "outputs": [],
   "source": [
    "# Only opens Mono files\n",
    "if spf.getnchannels() == 2:\n",
    "    print 'Just mono files'\n",
    "    sys.exit(0)"
   ]
  },
  {
   "cell_type": "code",
   "execution_count": 5,
   "metadata": {
    "collapsed": false
   },
   "outputs": [
    {
     "name": "stdout",
     "output_type": "stream",
     "text": [
      "[  296   297   294 ..., -1120  -559  -411]\n"
     ]
    },
    {
     "data": {
      "text/plain": [
       "130603"
      ]
     },
     "execution_count": 5,
     "metadata": {},
     "output_type": "execute_result"
    }
   ],
   "source": [
    "# Extracts the signal\n",
    "signal = spf.readframes(-1)\n",
    "signal = np.fromstring(signal, 'Int16')\n",
    "print(signal)\n",
    "len(signal)"
   ]
  },
  {
   "cell_type": "code",
   "execution_count": 6,
   "metadata": {
    "collapsed": false
   },
   "outputs": [
    {
     "data": {
      "text/plain": [
       "[<matplotlib.lines.Line2D at 0x7f07745e98d0>]"
      ]
     },
     "execution_count": 6,
     "metadata": {},
     "output_type": "execute_result"
    },
    {
     "data": {
      "image/png": "[encoded data removed]",
      "text/plain": [
       "<matplotlib.figure.Figure at 0x7f07746b97d0>"
      ]
     },
     "metadata": {},
     "output_type": "display_data"
    }
   ],
   "source": [
    "# Prints the signal\n",
    "plt.figure(1)\n",
    "plt.title('Signal Wave...')\n",
    "plt.plot(signal)"
   ]
  },
  {
   "cell_type": "markdown",
   "metadata": {},
   "source": [
    "## Fast Fourier Transform"
   ]
  },
  {
   "cell_type": "code",
   "execution_count": 7,
   "metadata": {
    "collapsed": false
   },
   "outputs": [
    {
     "name": "stderr",
     "output_type": "stream",
     "text": [
      "/usr/lib/python2.7/dist-packages/numpy/core/numeric.py:460: ComplexWarning: Casting complex values to real discards the imaginary part\n",
      "  return array(a, dtype, copy=False, order=order)\n"
     ]
    },
    {
     "data": {
      "text/plain": [
       "[<matplotlib.lines.Line2D at 0x7f077414cf50>]"
      ]
     },
     "execution_count": 7,
     "metadata": {},
     "output_type": "execute_result"
    },
    {
     "data": {
      "image/png": "[encoded data removed]",
      "text/plain": [
       "<matplotlib.figure.Figure at 0x7f07746b96d0>"
      ]
     },
     "metadata": {},
     "output_type": "display_data"
    }
   ],
   "source": [
    "Y = np.fft.fft(signal)\n",
    "plt.figure(2)\n",
    "plt.title('Fourier transform')\n",
    "plt.plot(Y)"
   ]
  },
  {
   "cell_type": "code",
   "execution_count": 8,
   "metadata": {
    "collapsed": false
   },
   "outputs": [
    {
     "data": {
      "text/plain": [
       "array([  3.79386760e+07    +0.j        ,  -1.11978943e+04-25406.69537752j,\n",
       "        -1.67714729e+04 +5782.91817767j, ...,\n",
       "        -1.09229381e+04+21810.02214398j,  -1.67714729e+04 -5782.91817766j,\n",
       "        -1.11978943e+04+25406.69537752j])"
      ]
     },
     "execution_count": 8,
     "metadata": {},
     "output_type": "execute_result"
    }
   ],
   "source": [
    "Y"
   ]
  },
  {
   "cell_type": "markdown",
   "metadata": {},
   "source": [
    "## Writing the Fast Fourier Transform in Latex"
   ]
  },
  {
   "cell_type": "code",
   "execution_count": 14,
   "metadata": {
    "collapsed": false
   },
   "outputs": [],
   "source": [
    "lfile = open(\"latex.tex\",\"w\")\n",
    "N = str(len(Y))\n",
    "\n",
    "lfile.write(\"\\\\documentclass{scrartcl}\\n\\\\usepackage{amsmath}\\n\\\\begin{document}\\n\")\n",
    "lfile.write(\"\\\\allowdisplaybreaks[1]\\n\")\n",
    "lfile.write(\"\\\\title{Hungarian March}\\n\\\\subtitle{First 8 seconds!}\\n\")\n",
    "\n",
    "\n",
    "# Huge files cause a memory error in pdflatex\n",
    "# We split in small files\n",
    "\n",
    "j = 0\n",
    "ffile = open(\"latex\"+str(0)+\".tex\",\"w\")\n",
    "ffile.write(\"\\\\begin{align*}\\n\")\n",
    "for k in range(len(Y)):\n",
    "    j = j+1\n",
    "    if j==28:\n",
    "        j=0\n",
    "        ffile.write(\"\\\\end{align*}\\n\")\n",
    "        lfile.write(\"\\\\input{latex\"+str((k-1)/28)+\".tex}\\n\")\n",
    "        ffile.close()\n",
    "        ffile = open(\"latex\"+str(k/28)+\".tex\",\"w\")\n",
    "        ffile.write(\"\\\\begin{align*}\\n\")\n",
    "    ffile.write(str(Y[k]) + \"e^{ \\\\frac{j \\\\tau}{\" + N +  \"} \" + str(k) +  \"t } && + \\\\\\\\ \\n\")\n",
    "ffile.write(\"\\\\end{align*}\\n\")\n",
    "\n",
    "lfile.write(\"\\\\end{document}\")\n",
    "lfile.close()"
   ]
  },
  {
   "cell_type": "markdown",
   "metadata": {},
   "source": [
    "## Inverse Fast Fourier Transform"
   ]
  },
  {
   "cell_type": "code",
   "execution_count": 21,
   "metadata": {
    "collapsed": false
   },
   "outputs": [],
   "source": [
    "# Inverses the fast fourier transform\n",
    "yinv = np.fft.ifft(Y)\n",
    "newsignal = yinv.real.astype(np.int16)\n",
    "newsignal = newsignal.copy(order='C')"
   ]
  },
  {
   "cell_type": "markdown",
   "metadata": {},
   "source": [
    "## Numeric signal to wave file"
   ]
  },
  {
   "cell_type": "code",
   "execution_count": 22,
   "metadata": {
    "collapsed": false
   },
   "outputs": [],
   "source": [
    "# Recreates the wave file\n",
    "spfw = wave.open('test3.wav','w')\n",
    "spfw.setnchannels(spf.getnchannels())\n",
    "spfw.setsampwidth(spf.getsampwidth())\n",
    "spfw.setframerate(spf.getframerate())\n",
    "spfw.writeframes(newsignal)"
   ]
  }
 ],
 "metadata": {
  "kernelspec": {
   "display_name": "Python 2",
   "language": "python",
   "name": "python2"
  },
  "language_info": {
   "codemirror_mode": {
    "name": "ipython",
    "version": 2
   },
   "file_extension": ".py",
   "mimetype": "text/x-python",
   "name": "python",
   "nbconvert_exporter": "python",
   "pygments_lexer": "ipython2",
   "version": "2.7.6"
  }
 },
 "nbformat": 4,
 "nbformat_minor": 0
}
